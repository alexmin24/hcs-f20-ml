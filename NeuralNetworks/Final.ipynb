{
 "cells": [
  {
   "cell_type": "code",
   "execution_count": 24,
   "metadata": {},
   "outputs": [],
   "source": [
    "# import required libraries\n",
    "import numpy as np\n",
    "import matplotlib.pyplot as plt\n",
    "import tensorflow as tf\n",
    "from tensorflow import keras\n",
    "from tensorflow.keras import layers\n",
    "import math"
   ]
  },
  {
   "cell_type": "code",
   "execution_count": 25,
   "metadata": {},
   "outputs": [],
   "source": [
    "# loading the data\n",
    "zero_data = np.load('./zero.npy')\n",
    "one_data = np.load('./one.npy')\n",
    "two_data = np.load('./two.npy')\n",
    "three_data = np.load('./three.npy')\n",
    "four_data = np.load('./four.npy')\n",
    "five_data = np.load('./five.npy')\n",
    "six_data = np.load('./six.npy')\n",
    "seven_data = np.load('./seven.npy')\n",
    "eight_data = np.load('./eight.npy')\n",
    "nine_data = np.load('./nine.npy')\n"
   ]
  },
  {
   "cell_type": "code",
   "execution_count": 3,
   "metadata": {},
   "outputs": [
    {
     "data": {
      "image/png": "[encoded data removed]",
      "text/plain": [
       "<Figure size 432x288 with 1 Axes>"
      ]
     },
     "metadata": {
      "needs_background": "light"
     },
     "output_type": "display_data"
    },
    {
     "data": {
      "image/png": "[encoded data removed]",
      "text/plain": [
       "<Figure size 432x288 with 1 Axes>"
      ]
     },
     "metadata": {
      "needs_background": "light"
     },
     "output_type": "display_data"
    }
   ],
   "source": [
    "# understanding the data\n",
    "def print_data(data):\n",
    "    for line in data:\n",
    "        print(line)\n",
    "        print('----------------')\n",
    "\n",
    "# cleaner printing\n",
    "def print_drawing(drawing):\n",
    "    plt.imshow(drawing.reshape((28,28)), cmap='Greys')\n",
    "    plt.axis('off')\n",
    "    plt.show()\n",
    "\n",
    "for drawing in apple_data[:2]:\n",
    "    print_drawing(drawing)\n"
   ]
  },
  {
   "cell_type": "code",
   "execution_count": 34,
   "metadata": {},
   "outputs": [],
   "source": [
    "# randomizing the data\n",
    "np.random.shuffle(zero_data)\n",
    "np.random.shuffle(one_data)\n",
    "np.random.shuffle(two_data)\n",
    "np.random.shuffle(three_data)\n",
    "np.random.shuffle(four_data)\n",
    "np.random.shuffle(five_data)\n",
    "np.random.shuffle(six_data)\n",
    "np.random.shuffle(seven_data)\n",
    "np.random.shuffle(eight_data)\n",
    "np.random.shuffle(nine_data)\n",
    "\n",
    "# splitting into test and train\n",
    "train_percent = 0.8\n",
    "\n",
    "zero_cutoff = math.floor(len(zero_data) * train_percent)\n",
    "zero_trainX = zero_data[:zero_cutoff]\n",
    "zero_trainY = np.tile([1, 0, 0, 0, 0, 0, 0, 0, 0, 0], (len(zero_trainX), 1))\n",
    "zero_testX = zero_data[zero_cutoff:]\n",
    "zero_testY = np.tile([1, 0, 0, 0, 0, 0, 0, 0, 0, 0], (len(zero_testX), 1))\n",
    "\n",
    "one_cutoff = math.floor(len(one_data) * train_percent)\n",
    "one_trainX = one_data[:one_cutoff]\n",
    "one_trainY = np.tile([0, 1, 0, 0, 0, 0, 0, 0, 0, 0], (len(one_trainX), 1))\n",
    "one_testX = one_data[zero_cutoff:]\n",
    "one_testY = np.tile([0, 1, 0, 0, 0, 0, 0, 0, 0, 0], (len(one_testX), 1))\n",
    "\n",
    "two_cutoff = math.floor(len(two_data) * train_percent)\n",
    "two_trainX = two_data[:two_cutoff]\n",
    "two_trainY = np.tile([0, 0, 1, 0, 0, 0, 0, 0, 0, 0], (len(two_trainX), 1))\n",
    "two_testX = two_data[two_cutoff:]\n",
    "two_testY = np.tile([0, 0, 1, 0, 0, 0, 0, 0, 0, 0], (len(two_testX),1))\n",
    "\n",
    "three_cutoff = math.floor(len(three_data) * train_percent)\n",
    "three_trainX = three_data[:three_cutoff]\n",
    "three_trainY = np.tile([0, 0, 0, 1, 0, 0, 0, 0, 0, 0], (len(three_trainX), 1))\n",
    "three_testX = three_data[three_cutoff:]\n",
    "three_testY = np.tile([0, 0, 0, 1, 0, 0, 0, 0, 0, 0], (len(three_testX),1))\n",
    "\n",
    "four_cutoff = math.floor(len(four_data) * train_percent)\n",
    "four_trainX = four_data[:four_cutoff]\n",
    "four_trainY = np.tile([0, 0, 0, 0, 1, 0, 0, 0, 0, 0], (len(four_trainX), 1))\n",
    "four_testX = four_data[four_cutoff:]\n",
    "four_testY = np.tile([0, 0, 0, 0, 1, 0, 0, 0, 0, 0], (len(four_testX),1))\n",
    "\n",
    "five_cutoff = math.floor(len(five_data) * train_percent)\n",
    "five_trainX = five_data[:five_cutoff]\n",
    "five_trainY = np.tile([0, 0, 0, 0, 0, 1, 0, 0, 0, 0], (len(five_trainX), 1))\n",
    "five_testX = five_data[five_cutoff:]\n",
    "five_testY = np.tile([0, 0, 0, 0, 0, 1, 0, 0, 0, 0], (len(five_testX),1))\n",
    "\n",
    "six_cutoff = math.floor(len(six_data) * train_percent)\n",
    "six_trainX = six_data[:six_cutoff]\n",
    "six_trainY = np.tile([0, 0, 0, 0, 0, 0, 1, 0, 0, 0], (len(six_trainX), 1))\n",
    "six_testX = six_data[six_cutoff:]\n",
    "six_testY = np.tile([0, 0, 0, 0, 0, 0, 1, 0, 0, 0], (len(six_testX),1))\n",
    "\n",
    "seven_cutoff = math.floor(len(seven_data) * train_percent)\n",
    "seven_trainX = seven_data[:seven_cutoff]\n",
    "seven_trainY = np.tile([0, 0, 0, 0, 0, 0, 0, 1, 0, 0], (len(seven_trainX),1))\n",
    "seven_testX = seven_data[seven_cutoff:]\n",
    "seven_testY = np.tile([0, 0, 0, 0, 0, 0, 0, 1, 0, 0], (len(seven_testX),1))\n",
    "\n",
    "eight_cutoff = math.floor(len(eight_data) * train_percent)\n",
    "eight_trainX = eight_data[:eight_cutoff]\n",
    "eight_trainY = np.tile([0, 0, 0, 0, 0, 0, 0, 0, 1, 0], (len(eight_trainX),1))\n",
    "eight_testX = eight_data[eight_cutoff:]\n",
    "eight_testY = np.tile([0, 0, 0, 0, 0, 0, 0, 0, 1, 0], (len(eight_testX),1))\n",
    "\n",
    "nine_cutoff = math.floor(len(nine_data) * train_percent)\n",
    "nine_trainX = nine_data[:nine_cutoff]\n",
    "nine_trainY = np.tile([0, 0, 0, 0, 0, 0, 0, 0, 0, 1], (len(nine_trainX),1))\n",
    "nine_testX = nine_data[nine_cutoff:]\n",
    "nine_testY = np.tile([0, 0, 0, 0, 0, 0, 0, 0, 0, 1], (len(nine_testX),1))\n",
    "\n",
    "# building the training and testing arrays\n",
    "X_train = np.concatenate((zero_trainX, one_trainX, two_trainX, three_trainX, four_trainX, five_trainX, six_trainX, seven_trainX, eight_trainX, nine_trainX))\n",
    "Y_train = np.concatenate((zero_trainY, one_trainY, two_trainY, three_trainY, four_trainY, five_trainY, six_trainY, seven_trainY, eight_trainY, nine_trainY))\n",
    "X_test = np.concatenate((zero_testX, one_testX, two_testX, three_testX, four_testX, five_testX, six_testX, seven_testX, eight_testX, nine_testX))\n",
    "Y_test = np.concatenate((zero_testY, one_testY, two_testY, three_testY, four_testY, five_testY, six_testY, seven_testY, eight_testY, nine_testY))"
   ]
  },
  {
   "cell_type": "code",
   "execution_count": 35,
   "metadata": {},
   "outputs": [],
   "source": [
    "# normalize the X data\n",
    "X_train = X_train.astype('float32')\n",
    "X_test = X_test.astype('float32')"
   ]
  },
  {
   "cell_type": "code",
   "execution_count": 36,
   "metadata": {},
   "outputs": [],
   "source": [
    "# building out the model\n",
    "model = keras.models.Sequential()\n",
    "\n",
    "# adding the first hidden layer\n",
    "model.add(layers.Dense(512, input_shape=(1024,)))\n",
    "model.add(layers.Activation('relu'))                            \n",
    "model.add(layers.Dropout(0.2))\n",
    "\n",
    "# adding the second hidden layer\n",
    "model.add(layers.Dense(512))\n",
    "model.add(layers.Activation('relu'))\n",
    "model.add(layers.Dropout(0.2))\n",
    "\n",
    "# adding the output layer\n",
    "model.add(layers.Dense(10))\n",
    "model.add(layers.Activation('softmax'))"
   ]
  },
  {
   "cell_type": "code",
   "execution_count": 37,
   "metadata": {},
   "outputs": [],
   "source": [
    "# compiling the model\n",
    "model.compile(loss='categorical_crossentropy', metrics=['accuracy'], optimizer='adam')"
   ]
  },
  {
   "cell_type": "code",
   "execution_count": 38,
   "metadata": {},
   "outputs": [
    {
     "name": "stdout",
     "output_type": "stream",
     "text": [
      "Epoch 1/20\n",
      "13/13 - 0s - loss: 1.0629 - accuracy: 0.6813 - val_loss: 0.3736 - val_accuracy: 0.8665\n",
      "Epoch 2/20\n",
      "13/13 - 0s - loss: 0.2660 - accuracy: 0.9229 - val_loss: 0.2462 - val_accuracy: 0.9219\n",
      "Epoch 3/20\n",
      "13/13 - 0s - loss: 0.2874 - accuracy: 0.9087 - val_loss: 0.2163 - val_accuracy: 0.9370\n",
      "Epoch 4/20\n",
      "13/13 - 0s - loss: 0.1342 - accuracy: 0.9566 - val_loss: 0.1420 - val_accuracy: 0.9547\n",
      "Epoch 5/20\n",
      "13/13 - 0s - loss: 0.0874 - accuracy: 0.9709 - val_loss: 0.1422 - val_accuracy: 0.9496\n",
      "Epoch 6/20\n",
      "13/13 - 0s - loss: 0.0670 - accuracy: 0.9825 - val_loss: 0.1432 - val_accuracy: 0.9496\n",
      "Epoch 7/20\n",
      "13/13 - 0s - loss: 0.0467 - accuracy: 0.9890 - val_loss: 0.1015 - val_accuracy: 0.9597\n",
      "Epoch 8/20\n",
      "13/13 - 0s - loss: 0.0327 - accuracy: 0.9896 - val_loss: 0.1155 - val_accuracy: 0.9673\n",
      "Epoch 9/20\n",
      "13/13 - 0s - loss: 0.0186 - accuracy: 0.9961 - val_loss: 0.0945 - val_accuracy: 0.9723\n",
      "Epoch 10/20\n",
      "13/13 - 0s - loss: 0.0154 - accuracy: 0.9974 - val_loss: 0.0906 - val_accuracy: 0.9748\n",
      "Epoch 11/20\n",
      "13/13 - 0s - loss: 0.0120 - accuracy: 0.9974 - val_loss: 0.0940 - val_accuracy: 0.9798\n",
      "Epoch 12/20\n",
      "13/13 - 0s - loss: 0.0114 - accuracy: 0.9974 - val_loss: 0.0976 - val_accuracy: 0.9698\n",
      "Epoch 13/20\n",
      "13/13 - 0s - loss: 0.0122 - accuracy: 0.9974 - val_loss: 0.0917 - val_accuracy: 0.9773\n",
      "Epoch 14/20\n",
      "13/13 - 0s - loss: 0.0097 - accuracy: 0.9981 - val_loss: 0.1012 - val_accuracy: 0.9698\n",
      "Epoch 15/20\n",
      "13/13 - 0s - loss: 0.0076 - accuracy: 0.9994 - val_loss: 0.0972 - val_accuracy: 0.9773\n",
      "Epoch 16/20\n",
      "13/13 - 0s - loss: 0.0057 - accuracy: 1.0000 - val_loss: 0.0940 - val_accuracy: 0.9798\n",
      "Epoch 17/20\n",
      "13/13 - 0s - loss: 0.0058 - accuracy: 0.9994 - val_loss: 0.0938 - val_accuracy: 0.9773\n",
      "Epoch 18/20\n",
      "13/13 - 0s - loss: 0.0096 - accuracy: 0.9968 - val_loss: 0.1225 - val_accuracy: 0.9698\n",
      "Epoch 19/20\n",
      "13/13 - 0s - loss: 0.0096 - accuracy: 0.9981 - val_loss: 0.0984 - val_accuracy: 0.9748\n",
      "Epoch 20/20\n",
      "13/13 - 0s - loss: 0.0108 - accuracy: 0.9974 - val_loss: 0.1061 - val_accuracy: 0.9698\n"
     ]
    }
   ],
   "source": [
    "# training the model\n",
    "history = model.fit(X_train, Y_train,\n",
    "          batch_size=128, epochs=20,\n",
    "          verbose=2,\n",
    "          validation_data=(X_test, Y_test))"
   ]
  },
  {
   "cell_type": "code",
   "execution_count": null,
   "metadata": {},
   "outputs": [],
   "source": []
  },
  {
   "cell_type": "code",
   "execution_count": null,
   "metadata": {},
   "outputs": [],
   "source": []
  }
 ],
 "metadata": {
  "kernelspec": {
   "display_name": "Python 3",
   "language": "python",
   "name": "python3"
  },
  "language_info": {
   "codemirror_mode": {
    "name": "ipython",
    "version": 3
   },
   "file_extension": ".py",
   "mimetype": "text/x-python",
   "name": "python",
   "nbconvert_exporter": "python",
   "pygments_lexer": "ipython3",
   "version": "3.8.5"
  }
 },
 "nbformat": 4,
 "nbformat_minor": 2
}
